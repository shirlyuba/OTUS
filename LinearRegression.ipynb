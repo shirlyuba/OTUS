{
 "cells": [
  {
   "cell_type": "code",
   "execution_count": 1,
   "metadata": {
    "colab": {},
    "colab_type": "code",
    "id": "ENQqRQKIzBeC"
   },
   "outputs": [],
   "source": [
    "from sklearn.datasets import load_diabetes, load_boston\n",
    "import numpy as np"
   ]
  },
  {
   "cell_type": "code",
   "execution_count": 2,
   "metadata": {
    "colab": {
     "base_uri": "https://localhost:8080/",
     "height": 34
    },
    "colab_type": "code",
    "id": "bi1fc7XHynf7",
    "outputId": "409f1423-4d8b-4c22-9db3-2a877b696585"
   },
   "outputs": [
    {
     "name": "stdout",
     "output_type": "stream",
     "text": [
      "(506, 13)\n"
     ]
    }
   ],
   "source": [
    "X, y = load_boston(return_X_y=True)\n",
    "print(X.shape)"
   ]
  },
  {
   "cell_type": "code",
   "execution_count": 3,
   "metadata": {
    "colab": {},
    "colab_type": "code",
    "id": "xqndJ8oH4wlq"
   },
   "outputs": [],
   "source": [
    "X = (X - X.mean()) / X.std()"
   ]
  },
  {
   "cell_type": "code",
   "execution_count": 4,
   "metadata": {
    "colab": {},
    "colab_type": "code",
    "id": "X1ySqQmzy50h"
   },
   "outputs": [],
   "source": [
    "def MNK(X,y):\n",
    "    return np.linalg.inv(X.T @ X) @ X.T @ y"
   ]
  },
  {
   "cell_type": "code",
   "execution_count": 6,
   "metadata": {
    "colab": {
     "base_uri": "https://localhost:8080/",
     "height": 68
    },
    "colab_type": "code",
    "id": "NeacvXQc3uWc",
    "outputId": "4c51d5e5-246d-435a-ccc1-9fa0ec0b0696"
   },
   "outputs": [
    {
     "name": "stdout",
     "output_type": "stream",
     "text": [
      "[ -14.41672834    6.80577549   -4.22148731  466.80049536 -764.98213437\n",
      "  592.24945196   -1.66606768 -181.74435374   39.28117651   -1.90559608\n",
      " -114.8639011     1.4457247   -76.10565836]\n"
     ]
    }
   ],
   "source": [
    "w = MNK(X, y)\n",
    "print(w) "
   ]
  },
  {
   "cell_type": "code",
   "execution_count": 7,
   "metadata": {
    "colab": {
     "base_uri": "https://localhost:8080/",
     "height": 34
    },
    "colab_type": "code",
    "id": "us_VzZJ955se",
    "outputId": "869f67f9-6cc9-4ab4-c781-8cdec8a9568c"
   },
   "outputs": [
    {
     "name": "stdout",
     "output_type": "stream",
     "text": [
      "Величина ошибки: 22.40186338225403\n"
     ]
    }
   ],
   "source": [
    "mse = np.mean((y - X @ w)**2)\n",
    "print(\"Величина ошибки:\", mse)"
   ]
  }
 ],
 "metadata": {
  "colab": {
   "collapsed_sections": [],
   "name": "Copy of regres.ipynb",
   "provenance": []
  },
  "kernelspec": {
   "display_name": "Python 3",
   "language": "python",
   "name": "python3"
  },
  "language_info": {
   "codemirror_mode": {
    "name": "ipython",
    "version": 3
   },
   "file_extension": ".py",
   "mimetype": "text/x-python",
   "name": "python",
   "nbconvert_exporter": "python",
   "pygments_lexer": "ipython3",
   "version": "3.6.5"
  }
 },
 "nbformat": 4,
 "nbformat_minor": 1
}
