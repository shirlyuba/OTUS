{
 "cells": [
  {
   "cell_type": "code",
   "execution_count": 1,
   "metadata": {
    "colab": {},
    "colab_type": "code",
    "id": "Up3E7Lc-cw3A"
   },
   "outputs": [],
   "source": [
    "import numpy as np\n",
    "import matplotlib.pyplot as plt"
   ]
  },
  {
   "cell_type": "code",
   "execution_count": 3,
   "metadata": {
    "colab": {},
    "colab_type": "code",
    "id": "ma-OKL3sdM6l"
   },
   "outputs": [],
   "source": [
    "def PI(N):\n",
    "    x = np.random.rand(N)\n",
    "    y = np.random.rand(N)\n",
    "    R = x**2 + y**2\n",
    "    n = (R < 1).sum()\n",
    "    return n/N * 4"
   ]
  },
  {
   "cell_type": "code",
   "execution_count": 8,
   "metadata": {
    "colab": {
     "base_uri": "https://localhost:8080/",
     "height": 136
    },
    "colab_type": "code",
    "id": "EuT-jUNTewG9",
    "outputId": "7c99feb9-e0a0-4141-f062-1e4e4898c437"
   },
   "outputs": [
    {
     "name": "stdout",
     "output_type": "stream",
     "text": [
      "N= 100.0  Pi= 3.12\n",
      "N= 1000.0  Pi= 3.208\n",
      "N= 10000.0  Pi= 3.122\n",
      "N= 100000.0  Pi= 3.1376\n",
      "N= 1000000.0  Pi= 3.140484\n",
      "N= 10000000.0  Pi= 3.1413052\n",
      "N= 100000000.0  Pi= 3.14159936\n"
     ]
    }
   ],
   "source": [
    "N = [1e2,1e3,1e4,1e5,1e6, 1e7, 1e8]\n",
    "for n in N:\n",
    "    pi = PI(int(n))\n",
    "    print(\"N=\", n, \" Pi=\",pi)"
   ]
  }
 ],
 "metadata": {
  "colab": {
   "collapsed_sections": [],
   "name": "Copy of monte.ipynb",
   "provenance": []
  },
  "kernelspec": {
   "display_name": "Python 3",
   "language": "python",
   "name": "python3"
  },
  "language_info": {
   "codemirror_mode": {
    "name": "ipython",
    "version": 3
   },
   "file_extension": ".py",
   "mimetype": "text/x-python",
   "name": "python",
   "nbconvert_exporter": "python",
   "pygments_lexer": "ipython3",
   "version": "3.6.5"
  }
 },
 "nbformat": 4,
 "nbformat_minor": 1
}
