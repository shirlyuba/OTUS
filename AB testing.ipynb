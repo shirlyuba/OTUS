{
 "cells": [
  {
   "cell_type": "code",
   "execution_count": 1,
   "metadata": {
    "colab": {},
    "colab_type": "code",
    "id": "wAnDTbO82wPZ"
   },
   "outputs": [],
   "source": [
    "import numpy as np\n",
    "from scipy.stats import norm"
   ]
  },
  {
   "cell_type": "code",
   "execution_count": 2,
   "metadata": {},
   "outputs": [],
   "source": [
    "alpha = 0.05"
   ]
  },
  {
   "cell_type": "code",
   "execution_count": 3,
   "metadata": {
    "colab": {},
    "colab_type": "code",
    "id": "W5d-FhiC2z1-"
   },
   "outputs": [],
   "source": [
    "def AB_test(n11, n12, n21, n22, H1):\n",
    "    n_1 = n11 + n21\n",
    "    n_2 = n12 + n22\n",
    "    n1_ = n11 + n12\n",
    "    n2_ = n21 + n22\n",
    "    n = n1_ + n2_  \n",
    "    T = (n11/n1_ - n12/n2_) / np.sqrt(n_1/n * (1 - n_1/n) * (1/n1_ + 1/n2_))\n",
    "    answer = \"no\"\n",
    "    \n",
    "    if H1 == \"!=\":\n",
    "        p_value = min(2*norm.cdf(T),2 - 2*norm.cdf(T))\n",
    "\n",
    "        if T > norm.ppf(alpha/2) and T < norm.ppf(1-alpha/2):\n",
    "            answer = \"yes\"\n",
    "\n",
    "    if H1 == \">\":\n",
    "        p_value = 1 - norm.cdf(T)\n",
    "        \n",
    "        if T < norm.ppf(1-alpha):\n",
    "            answer = \"yes\"\n",
    "\n",
    "\n",
    "    if H1 == \"<\":\n",
    "        p_value = norm.cdf(T)\n",
    "        \n",
    "        if T > norm.ppf(alpha):\n",
    "            answer = \"yes\"\n",
    "\n",
    "    return answer,p_value,T"
   ]
  },
  {
   "cell_type": "markdown",
   "metadata": {
    "colab": {
     "base_uri": "https://localhost:8080/",
     "height": 54
    },
    "colab_type": "code",
    "id": "dVHunWPY9frv",
    "outputId": "11d11ac9-8737-433f-8e4d-621eb6ce7b96"
   },
   "source": [
    "### Задача 1\n",
    "Перед президентскими выборами в городах Курске и Владивостоке был проведен\n",
    "социологический опрос. Каждый респондент должен был ответить на вопрос: «За какого\n",
    "кандидата вы будете голосовать на выборах?». В Курске опросили 105 человек, из них 42\n",
    "ответили, что будут голосовать за кандидата А, во Владивостоке опросили 195 человек, из которых\n",
    "65 за А. Можно ли считать на уровне значимости 0,05, что уровни поддержки кандидата А в Курске\n",
    "и Владивостоке одинаковы?\n",
    "\n",
    "\n",
    "H0 - поддержка одинаковая, H1 - неодинаковая"
   ]
  },
  {
   "cell_type": "code",
   "execution_count": 4,
   "metadata": {
    "colab": {
     "base_uri": "https://localhost:8080/",
     "height": 68
    },
    "colab_type": "code",
    "id": "QYICVLbR9o61",
    "outputId": "e822d7d9-0d1c-4d5b-e0e3-ab9e36ab8d8e"
   },
   "outputs": [
    {
     "name": "stdout",
     "output_type": "stream",
     "text": [
      "Ответ: yes\n",
      "p-value: 0.1846221368292451\n",
      "Статистика: 1.3266571039757824\n"
     ]
    }
   ],
   "source": [
    "ans,p_value,T = AB_test(n11=42,n12=105-42,n21=65,n22=195-65,H1=\"!=\")\n",
    "print(\"Ответ:\",ans)\n",
    "print(\"p-value:\",p_value)\n",
    "print(\"Статистика:\",T)"
   ]
  },
  {
   "cell_type": "markdown",
   "metadata": {
    "colab": {},
    "colab_type": "code",
    "id": "hUlOcS3J9325"
   },
   "source": [
    "### Задача 2.\n",
    "Для изучения эффективности лекарства против аллергии обследовались две группы людей,\n",
    "предрасположенных к этому заболеванию. Результаты обследования следующие: среди\n",
    "принимавших лекарство заболело 3 человека, не заболело 172 человека; среди не принимавших\n",
    "заболело 32 человека, не заболело 168. Указывают ли эти результаты на эффективность\n",
    "лекарства?\n",
    "\n",
    "H0 - число здоровых одинаковое, H1 - доля здоровых в первой группе больше"
   ]
  },
  {
   "cell_type": "code",
   "execution_count": 5,
   "metadata": {
    "colab": {
     "base_uri": "https://localhost:8080/",
     "height": 68
    },
    "colab_type": "code",
    "id": "9WLU_8dn-VaT",
    "outputId": "0c50a1ec-e1c5-4e64-a5a1-366d7e4c4494"
   },
   "outputs": [
    {
     "name": "stdout",
     "output_type": "stream",
     "text": [
      "Ответ: no\n",
      "p-value: 0.0\n",
      "Статистика: 32.1430759796472\n"
     ]
    }
   ],
   "source": [
    "ans,p_value,T = AB_test(n11=172,n12=3,n21=168,n22=32,H1=\">\")\n",
    "print(\"Ответ:\",ans)\n",
    "print(\"p-value:\",p_value)\n",
    "print(\"Статистика:\",T)"
   ]
  },
  {
   "cell_type": "code",
   "execution_count": 6,
   "metadata": {
    "colab": {},
    "colab_type": "code",
    "id": "D4Rp97m7UCV1"
   },
   "outputs": [],
   "source": [
    "def rang(X, Y):\n",
    "    arr = np.append(np.array(X), np.array(Y))\n",
    "    ids = np.argsort(arr)\n",
    "    rangs = {}\n",
    "    for i in range(len(arr)):\n",
    "        rangs[arr[i]] = ids[i] + 1\n",
    "    return rangs"
   ]
  },
  {
   "cell_type": "code",
   "execution_count": 7,
   "metadata": {
    "colab": {},
    "colab_type": "code",
    "id": "4nIFwvBkBRVw"
   },
   "outputs": [],
   "source": [
    "def AB_shift(X, Y, H1):\n",
    "    n = len(Y)\n",
    "    m = len(X)\n",
    "\n",
    "    rangs = rang(X, Y)\n",
    "    W = 0\n",
    "    for y in Y:\n",
    "        W += rangs[y]\n",
    "  \n",
    "    M = n/2 * (m + n + 1)\n",
    "    D = n*m/12 * (m + n + 1)\n",
    "  \n",
    "    W = (W - M) / np.sqrt(D)\n",
    "    answer = \"no\"\n",
    "\n",
    "    if H1 == \"!=\":\n",
    "        p_value = min(2*norm.cdf(W),2 - 2*norm.cdf(W))\n",
    "\n",
    "        if W > norm.ppf(alpha/2) and W <norm.ppf(1-alpha/2):\n",
    "            answer = 'yes'\n",
    "\n",
    "\n",
    "    if H1 == \">\":\n",
    "        p_value = 1 - norm.cdf(W)\n",
    "        \n",
    "        if W < norm.ppf(1-alpha):\n",
    "            answer = 'yes'\n",
    "\n",
    "\n",
    "    if H1 == \"<\":\n",
    "        p_value = norm.cdf(W)\n",
    "        if W > norm.ppf(alpha):\n",
    "            answer = 'yes'    \n",
    "\n",
    "    return answer,p_value,W"
   ]
  },
  {
   "cell_type": "markdown",
   "metadata": {
    "colab": {
     "base_uri": "https://localhost:8080/",
     "height": 54
    },
    "colab_type": "code",
    "id": "PLU3zmzoFx_u",
    "outputId": "aa3d65db-c964-4c5e-cfaa-426b6c76808a"
   },
   "source": [
    "### Задача 3\n",
    "Было проведено обследование 10 горожан и 9 жителей села примерно одного возраста.\n",
    "Получены следующие данные об уровне давления:\n",
    "для горожан: 130, 110, 120, 140, 200, 130, 140, 170, 160, 140;\n",
    "для селян: 120, 190, 130, 160, 150, 120, 110, 120, 200.\n",
    "Свидетельствуют ли эти данные в пользу того, что горожане имеют в среднем более высокое\n",
    "давление чем жители сельской местности?\n",
    "\n",
    "H0 - равенство давления, H1 - доля здоровых в первой группе больше"
   ]
  },
  {
   "cell_type": "code",
   "execution_count": 8,
   "metadata": {
    "colab": {
     "base_uri": "https://localhost:8080/",
     "height": 68
    },
    "colab_type": "code",
    "id": "a648ZfrWF0gq",
    "outputId": "bc453c7b-14b7-4206-8179-96d052202b82"
   },
   "outputs": [
    {
     "name": "stdout",
     "output_type": "stream",
     "text": [
      "Ответ: yes\n",
      "p-value: 0.564858613859482\n",
      "Статистика: -0.16329931618554522\n"
     ]
    }
   ],
   "source": [
    "X = [130, 110, 120, 140, 200, 130, 140, 170, 160, 140]\n",
    "Y = [120, 190, 130, 160, 150, 120, 110, 120, 200]\n",
    "ans,p_value,W = AB_shift(X=X,Y=Y,H1=\">\")\n",
    "print(\"Ответ:\",ans)\n",
    "print(\"p-value:\",p_value)\n",
    "print(\"Статистика:\",W)"
   ]
  },
  {
   "cell_type": "markdown",
   "metadata": {
    "colab_type": "text",
    "id": "W6v5eE6Lgg2m"
   },
   "source": [
    "### Задача 4\n",
    "\n",
    "Уровень гистамина в мокроте у 7 курильщиков, склонных к аллергии, составил в мг:\n",
    "102,4 100,0 67,6 65,9 64,7 39,6 31,2\n",
    "У 10 курильщиков не склонных к аллергии составил в мг:\n",
    "48,1 45,5 41,7 35,4 29,1 18,9 58,3 68,8 71,3 94,3\n",
    "Можно ли, основываясь на этих данных, считать с надёжностью 0,95 что уровень гистамина у\n",
    "склонных и не склонных к аллергии курильщиков значимо различается?\n",
    "\n",
    "H0 - не различаются, гипотеза H1 - различаются"
   ]
  },
  {
   "cell_type": "code",
   "execution_count": 9,
   "metadata": {
    "colab": {
     "base_uri": "https://localhost:8080/",
     "height": 68
    },
    "colab_type": "code",
    "id": "G5jml3ThG1kK",
    "outputId": "665b4045-d48c-4bff-fe27-e5c4e463213d"
   },
   "outputs": [
    {
     "name": "stdout",
     "output_type": "stream",
     "text": [
      "Ответ: yes\n",
      "p-value: 0.6255852315243253\n",
      "Статистика: -0.4879500364742666\n"
     ]
    }
   ],
   "source": [
    "X = [102.4, 100.0, 67.6, 65.9, 64.7, 39.6, 31.2]\n",
    "Y = [48.1, 45.5, 41.7, 35.4, 29.1, 18.9, 58.3, 68.8, 71.3, 94.3]\n",
    "ans,p_value,W = AB_shift(X=X,Y=Y,H1=\"!=\")\n",
    "print(\"Ответ:\",ans)\n",
    "print(\"p-value:\",p_value)\n",
    "print(\"Статистика:\",W)"
   ]
  }
 ],
 "metadata": {
  "colab": {
   "collapsed_sections": [],
   "name": "Copy of AB.ipynb",
   "provenance": []
  },
  "kernelspec": {
   "display_name": "Python 3",
   "language": "python",
   "name": "python3"
  },
  "language_info": {
   "codemirror_mode": {
    "name": "ipython",
    "version": 3
   },
   "file_extension": ".py",
   "mimetype": "text/x-python",
   "name": "python",
   "nbconvert_exporter": "python",
   "pygments_lexer": "ipython3",
   "version": "3.6.5"
  }
 },
 "nbformat": 4,
 "nbformat_minor": 1
}
