{
 "cells": [
  {
   "cell_type": "code",
   "execution_count": 1,
   "metadata": {},
   "outputs": [],
   "source": [
    "import pandas as pd\n",
    "from sklearn.linear_model import LinearRegression, Ridge\n",
    "from sklearn.metrics import accuracy_score\n",
    "import numpy as np"
   ]
  },
  {
   "cell_type": "code",
   "execution_count": 2,
   "metadata": {},
   "outputs": [],
   "source": [
    "df_test = pd.read_table('http://work.caltech.edu/data/out.dta', \n",
    "                        delim_whitespace=True, header=None, names=['x1', 'x2', 'y'])\n",
    "df_train = pd.read_table('http://work.caltech.edu/data/in.dta', \n",
    "                         delim_whitespace=True, header=None, names=['x1', 'x2', 'y'])"
   ]
  },
  {
   "cell_type": "code",
   "execution_count": 3,
   "metadata": {},
   "outputs": [],
   "source": [
    "X_train, y_train = df_train[['x1', 'x2']], df_train[['y']]\n",
    "X_test, y_test = df_test[['x1', 'x2']], df_test[['y']]"
   ]
  },
  {
   "cell_type": "code",
   "execution_count": 4,
   "metadata": {},
   "outputs": [],
   "source": [
    "X_train['x0'] = np.ones(len(X_train))\n",
    "X_train['x3'] = X_train['x1']**2\n",
    "X_train['x4'] = X_train['x2']**2\n",
    "X_train['x5'] = X_train['x1']*X_train['x2']\n",
    "X_train['x6'] = np.abs(X_train['x1']-X_train['x2'])\n",
    "X_train['x7'] = np.abs(X_train['x1']+X_train['x2'])"
   ]
  },
  {
   "cell_type": "code",
   "execution_count": 5,
   "metadata": {},
   "outputs": [],
   "source": [
    "X_test['x0'] = np.ones(len(X_test))\n",
    "X_test['x3'] = X_test['x1']**2\n",
    "X_test['x4'] = X_test['x2']**2\n",
    "X_test['x5'] = X_test['x1']*X_test['x2']\n",
    "X_test['x6'] = np.abs(X_test['x1']-X_test['x2'])\n",
    "X_test['x7'] = np.abs(X_test['x1']+X_test['x2'])"
   ]
  },
  {
   "cell_type": "markdown",
   "metadata": {},
   "source": [
    "## Линейная регрессия:"
   ]
  },
  {
   "cell_type": "code",
   "execution_count": 6,
   "metadata": {},
   "outputs": [
    {
     "data": {
      "text/plain": [
       "LinearRegression(copy_X=True, fit_intercept=True, n_jobs=1, normalize=False)"
      ]
     },
     "execution_count": 6,
     "metadata": {},
     "output_type": "execute_result"
    }
   ],
   "source": [
    "lr = LinearRegression()\n",
    "lr.fit(X_train, y_train)"
   ]
  },
  {
   "cell_type": "code",
   "execution_count": 7,
   "metadata": {},
   "outputs": [],
   "source": [
    "y_pred_train = lr.predict(X_train)\n",
    "y_pred_train = np.where(y_pred_train > 0, 1, -1)"
   ]
  },
  {
   "cell_type": "code",
   "execution_count": 8,
   "metadata": {},
   "outputs": [],
   "source": [
    "y_pred_test = lr.predict(X_test)\n",
    "y_pred_test = np.where(y_pred_test > 0, 1, -1)"
   ]
  },
  {
   "cell_type": "markdown",
   "metadata": {},
   "source": [
    "### Значения ошибок:"
   ]
  },
  {
   "cell_type": "code",
   "execution_count": 9,
   "metadata": {},
   "outputs": [
    {
     "name": "stdout",
     "output_type": "stream",
     "text": [
      "E_in:  0.02857142857142858\n",
      "Е_out:  0.08399999999999996\n"
     ]
    }
   ],
   "source": [
    "print('E_in: ', 1 - accuracy_score(y_train, y_pred_train))\n",
    "print('Е_out: ', 1 - accuracy_score(y_test, y_pred_test))"
   ]
  },
  {
   "cell_type": "markdown",
   "metadata": {},
   "source": [
    "## L2-регуляризация"
   ]
  },
  {
   "cell_type": "code",
   "execution_count": 10,
   "metadata": {},
   "outputs": [
    {
     "data": {
      "text/plain": [
       "Ridge(alpha=0.01, copy_X=True, fit_intercept=True, max_iter=None,\n",
       "   normalize=False, random_state=None, solver='auto', tol=0.001)"
      ]
     },
     "execution_count": 10,
     "metadata": {},
     "output_type": "execute_result"
    }
   ],
   "source": [
    "ridge = Ridge(alpha=10e-3)\n",
    "ridge.fit(X_train, y_train)"
   ]
  },
  {
   "cell_type": "code",
   "execution_count": 11,
   "metadata": {},
   "outputs": [],
   "source": [
    "y_pred_train = ridge.predict(X_train)\n",
    "y_pred_train = np.where(y_pred_train > 0, 1, -1)"
   ]
  },
  {
   "cell_type": "code",
   "execution_count": 12,
   "metadata": {},
   "outputs": [],
   "source": [
    "y_pred_test = ridge.predict(X_test)\n",
    "y_pred_test = np.where(y_pred_test > 0, 1, -1)"
   ]
  },
  {
   "cell_type": "markdown",
   "metadata": {},
   "source": [
    "### Значения ошибок"
   ]
  },
  {
   "cell_type": "code",
   "execution_count": 13,
   "metadata": {},
   "outputs": [
    {
     "name": "stdout",
     "output_type": "stream",
     "text": [
      "E_in:  0.02857142857142858\n",
      "Е_out:  0.07999999999999996\n"
     ]
    }
   ],
   "source": [
    "print('E_in: ', 1 - accuracy_score(y_train, y_pred_train))\n",
    "print('Е_out: ', 1 - accuracy_score(y_test, y_pred_test))"
   ]
  }
 ],
 "metadata": {
  "kernelspec": {
   "display_name": "Python 3",
   "language": "python",
   "name": "python3"
  },
  "language_info": {
   "codemirror_mode": {
    "name": "ipython",
    "version": 3
   },
   "file_extension": ".py",
   "mimetype": "text/x-python",
   "name": "python",
   "nbconvert_exporter": "python",
   "pygments_lexer": "ipython3",
   "version": "3.5.2"
  }
 },
 "nbformat": 4,
 "nbformat_minor": 2
}
